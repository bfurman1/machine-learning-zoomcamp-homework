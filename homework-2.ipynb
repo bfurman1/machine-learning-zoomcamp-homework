{
 "cells": [
  {
   "cell_type": "code",
   "execution_count": 9,
   "id": "6b5ac436",
   "metadata": {},
   "outputs": [],
   "source": [
    "import pandas as pd\n",
    "import numpy as np\n",
    "\n",
    "import seaborn as sns\n",
    "from matplotlib import pyplot as plt\n",
    "%matplotlib inline"
   ]
  },
  {
   "cell_type": "markdown",
   "id": "f2032771",
   "metadata": {},
   "source": [
    "### https://github.com/alexeygrigorev/mlbookcamp-code/blob/master/chapter-02-car-price/02-carprice.ipynb"
   ]
  },
  {
   "cell_type": "code",
   "execution_count": 10,
   "id": "9ff8e880",
   "metadata": {},
   "outputs": [],
   "source": [
    "df = pd.read_csv('https://raw.githubusercontent.com/alexeygrigorev/datasets/master/car_fuel_efficiency.csv')"
   ]
  },
  {
   "cell_type": "code",
   "execution_count": 11,
   "id": "1e8e15f3",
   "metadata": {},
   "outputs": [],
   "source": [
    "df = df[['engine_displacement', 'horsepower', 'vehicle_weight', 'model_year', 'fuel_efficiency_mpg']]"
   ]
  },
  {
   "cell_type": "markdown",
   "id": "0b1db135",
   "metadata": {},
   "source": [
    "### See if fuel efficiency has a long tail"
   ]
  },
  {
   "cell_type": "code",
   "execution_count": 13,
   "id": "737d3b86",
   "metadata": {},
   "outputs": [
    {
     "data": {
      "image/png": "[encoded data removed]",
      "text/plain": [
       "<Figure size 600x400 with 1 Axes>"
      ]
     },
     "metadata": {},
     "output_type": "display_data"
    }
   ],
   "source": [
    "plt.figure(figsize=(6, 4))\n",
    "\n",
    "sns.histplot(df.fuel_efficiency_mpg, bins=40, color='black', alpha=1)\n",
    "plt.ylabel('Frequency')\n",
    "plt.xlabel('Price')\n",
    "plt.title('Distribution of mpg')\n",
    "\n",
    "plt.show()"
   ]
  },
  {
   "cell_type": "markdown",
   "id": "cd1ebe43",
   "metadata": {},
   "source": [
    "### Q1: There's one column with missing values. What is it?"
   ]
  },
  {
   "cell_type": "code",
   "execution_count": null,
   "id": "90d6bc84",
   "metadata": {},
   "outputs": [
    {
     "data": {
      "text/plain": [
       "engine_displacement      0\n",
       "horsepower             708\n",
       "vehicle_weight           0\n",
       "model_year               0\n",
       "fuel_efficiency_mpg      0\n",
       "dtype: int64"
      ]
     },
     "execution_count": 14,
     "metadata": {},
     "output_type": "execute_result"
    }
   ],
   "source": [
    "# horse power has missing values\n",
    "df.isnull().sum()"
   ]
  },
  {
   "cell_type": "markdown",
   "id": "8d4448ca",
   "metadata": {},
   "source": [
    "### Q2: What's the median (50% percentile) for variable 'horsepower'?"
   ]
  },
  {
   "cell_type": "code",
   "execution_count": null,
   "id": "47257a83",
   "metadata": {},
   "outputs": [
    {
     "data": {
      "text/plain": [
       "count    8996.000000\n",
       "mean      149.657292\n",
       "std        29.879555\n",
       "min        37.000000\n",
       "25%       130.000000\n",
       "50%       149.000000\n",
       "75%       170.000000\n",
       "max       271.000000\n",
       "Name: horsepower, dtype: float64"
      ]
     },
     "execution_count": 17,
     "metadata": {},
     "output_type": "execute_result"
    }
   ],
   "source": [
    "# 149.000000\n",
    "df['horsepower'].describe()"
   ]
  },
  {
   "cell_type": "code",
   "execution_count": 18,
   "id": "2328e830",
   "metadata": {},
   "outputs": [],
   "source": [
    "idx = np.arange(df.index.size)\n"
   ]
  },
  {
   "cell_type": "code",
   "execution_count": 19,
   "id": "e743b02b",
   "metadata": {},
   "outputs": [
    {
     "data": {
      "text/plain": [
       "array([   0,    1,    2, ..., 9701, 9702, 9703], shape=(9704,))"
      ]
     },
     "execution_count": 19,
     "metadata": {},
     "output_type": "execute_result"
    }
   ],
   "source": [
    "idx"
   ]
  },
  {
   "cell_type": "code",
   "execution_count": 20,
   "id": "8847ea5c",
   "metadata": {},
   "outputs": [],
   "source": [
    "np.random.seed(42)"
   ]
  },
  {
   "cell_type": "code",
   "execution_count": 21,
   "id": "0e1dda81",
   "metadata": {},
   "outputs": [],
   "source": [
    "np.random.shuffle(idx)"
   ]
  },
  {
   "cell_type": "code",
   "execution_count": 23,
   "id": "56478089",
   "metadata": {},
   "outputs": [],
   "source": [
    "df_shuffled = df.iloc[idx]\n",
    "\n",
    "n = df_shuffled.index.size\n",
    "n_val = int(0.2 * n)\n",
    "n_test = int(0.2 * n)\n",
    "n_train = n - (n_val + n_test)"
   ]
  },
  {
   "cell_type": "code",
   "execution_count": 24,
   "id": "66a6b904",
   "metadata": {},
   "outputs": [],
   "source": [
    "df_train = df_shuffled.iloc[:n_train].copy()\n",
    "df_val = df_shuffled.iloc[n_train:n_train+n_val].copy()\n",
    "df_test = df_shuffled.iloc[n_train+n_val:].copy()"
   ]
  },
  {
   "cell_type": "code",
   "execution_count": 25,
   "id": "d7ec8f6b",
   "metadata": {},
   "outputs": [
    {
     "data": {
      "text/plain": [
       "(5824, 1940, 1940)"
      ]
     },
     "execution_count": 25,
     "metadata": {},
     "output_type": "execute_result"
    }
   ],
   "source": [
    "df_train.index.size, df_val.index.size, df_test.index.size"
   ]
  },
  {
   "cell_type": "markdown",
   "id": "dc77430e",
   "metadata": {},
   "source": [
    "### Q3 Which option gives better RMSE?\n",
    "Anwer: With mean  (0.45 vs 0.52)"
   ]
  },
  {
   "cell_type": "code",
   "execution_count": null,
   "id": "fc7c2cf2",
   "metadata": {},
   "outputs": [],
   "source": [
    "mean_train = df_train['horsepower'].mean()"
   ]
  },
  {
   "cell_type": "code",
   "execution_count": 68,
   "id": "f632a421",
   "metadata": {},
   "outputs": [
    {
     "data": {
      "text/plain": [
       "np.float64(149.54476367006487)"
      ]
     },
     "execution_count": 68,
     "metadata": {},
     "output_type": "execute_result"
    }
   ],
   "source": [
    "mean_train "
   ]
  },
  {
   "cell_type": "code",
   "execution_count": 36,
   "id": "e18c31c3",
   "metadata": {},
   "outputs": [],
   "source": [
    "base = ['engine_displacement', 'horsepower', 'vehicle_weight', 'model_year']"
   ]
  },
  {
   "cell_type": "code",
   "execution_count": 31,
   "id": "173b4f67",
   "metadata": {},
   "outputs": [],
   "source": [
    "def train_linear_regression(X, y):\n",
    "    ones = np.ones(X.shape[0])\n",
    "    X = np.column_stack([ones, X])\n",
    "\n",
    "    XTX = X.T.dot(X)\n",
    "    XTX_inv = np.linalg.inv(XTX)\n",
    "    w = XTX_inv.dot(X.T).dot(y)\n",
    "    \n",
    "    return w[0], w[1:]"
   ]
  },
  {
   "cell_type": "code",
   "execution_count": 95,
   "id": "d94492c4",
   "metadata": {},
   "outputs": [],
   "source": [
    "def prepare_X(df, repalce_with):\n",
    "    df_num = df[base]\n",
    "    df_num = df_num.fillna(repalce_with)\n",
    "    \n",
    "    X = df_num.values\n",
    "    return X"
   ]
  },
  {
   "cell_type": "code",
   "execution_count": 60,
   "id": "3805c319",
   "metadata": {},
   "outputs": [],
   "source": [
    "def rmse(y, y_pred):\n",
    "    error = y_pred - y\n",
    "    mse = (error ** 2).mean()\n",
    "    return np.sqrt(mse)"
   ]
  },
  {
   "cell_type": "code",
   "execution_count": null,
   "id": "a6b94b0e",
   "metadata": {},
   "outputs": [],
   "source": []
  },
  {
   "cell_type": "markdown",
   "id": "0826868e",
   "metadata": {},
   "source": [
    "### Replacing missing values with zero"
   ]
  },
  {
   "cell_type": "code",
   "execution_count": 65,
   "id": "d070f0ae",
   "metadata": {},
   "outputs": [],
   "source": [
    "def q3_run (replace_with):\n",
    "    df_train_copy = df_train.copy()\n",
    "    df_val_copy = df_val.copy()\n",
    "    X_train = prepare_X(df_train_copy, replace_with)\n",
    "    y_train = df_train_copy.fuel_efficiency_mpg.values\n",
    "    \n",
    "    w_0, w = train_linear_regression(X_train, y_train)\n",
    "    \n",
    "    X_val = prepare_X(df_val_copy, replace_with)\n",
    "    y_val = df_val_copy.fuel_efficiency_mpg.values\n",
    "    \n",
    "    \n",
    "    y_pred = w_0 + X_val.dot(w)\n",
    "    \n",
    "    \n",
    "    print(rmse(y_pred, y_val).round(2))\n",
    "    "
   ]
  },
  {
   "cell_type": "code",
   "execution_count": null,
   "id": "89f93458",
   "metadata": {},
   "outputs": [
    {
     "name": "stdout",
     "output_type": "stream",
     "text": [
      "0.52\n"
     ]
    }
   ],
   "source": [
    "# 0.52\n",
    "q3_run(0)"
   ]
  },
  {
   "cell_type": "code",
   "execution_count": 69,
   "id": "82fdda2e",
   "metadata": {},
   "outputs": [
    {
     "name": "stdout",
     "output_type": "stream",
     "text": [
      "0.46\n"
     ]
    }
   ],
   "source": [
    "q3_run(mean_train)"
   ]
  },
  {
   "cell_type": "markdown",
   "id": "b98a8364",
   "metadata": {},
   "source": [
    "### Question 4\n",
    "Reqularization  Multiple options show same error.  So R = 0"
   ]
  },
  {
   "cell_type": "code",
   "execution_count": 72,
   "id": "a97f954c",
   "metadata": {},
   "outputs": [],
   "source": [
    "def train_linear_regression_reg(X, y, r=0.0):\n",
    "    ones = np.ones(X.shape[0])\n",
    "    X = np.column_stack([ones, X])\n",
    "\n",
    "    XTX = X.T.dot(X)\n",
    "    reg = r * np.eye(XTX.shape[0])\n",
    "    XTX = XTX + reg\n",
    "\n",
    "    XTX_inv = np.linalg.inv(XTX)\n",
    "    w = XTX_inv.dot(X.T).dot(y)\n",
    "    \n",
    "    return w[0], w[1:]"
   ]
  },
  {
   "cell_type": "code",
   "execution_count": null,
   "id": "669ea4a3",
   "metadata": {},
   "outputs": [],
   "source": [
    "df_train_copy = df_train.copy()"
   ]
  },
  {
   "cell_type": "code",
   "execution_count": 80,
   "id": "f5a02838",
   "metadata": {},
   "outputs": [
    {
     "data": {
      "text/plain": [
       "engine_displacement      0\n",
       "horsepower             429\n",
       "vehicle_weight           0\n",
       "model_year               0\n",
       "fuel_efficiency_mpg      0\n",
       "dtype: int64"
      ]
     },
     "execution_count": 80,
     "metadata": {},
     "output_type": "execute_result"
    }
   ],
   "source": [
    "df_train_copy.isnull().sum()"
   ]
  },
  {
   "cell_type": "code",
   "execution_count": null,
   "id": "0d5e7c44",
   "metadata": {},
   "outputs": [],
   "source": [
    "df_val_copy = df_val.copy()\n",
    "X_train = prepare_X(df_train_copy, 0)\n",
    "y_train = df_train_copy.fuel_efficiency_mpg.values\n"
   ]
  },
  {
   "cell_type": "code",
   "execution_count": null,
   "id": "34f58ffe",
   "metadata": {},
   "outputs": [
    {
     "name": "stdout",
     "output_type": "stream",
     "text": [
      "engine_displacement    0\n",
      "horsepower             0\n",
      "vehicle_weight         0\n",
      "model_year             0\n",
      "dtype: int64\n"
     ]
    }
   ],
   "source": [
    "\n",
    "\n",
    "X_val = prepare_X(df_val_copy, 0)\n",
    "y_val = df_val_copy.fuel_efficiency_mpg.values"
   ]
  },
  {
   "cell_type": "code",
   "execution_count": 88,
   "id": "c7cd68d9",
   "metadata": {},
   "outputs": [
    {
     "name": "stdout",
     "output_type": "stream",
     "text": [
      "r=0 Error=0.52\n",
      "r=0.01 Error=0.52\n",
      "r=0.1 Error=0.52\n",
      "r=1 Error=0.52\n",
      "r=5 Error=0.52\n",
      "r=10 Error=0.52\n",
      "r=100 Error=0.52\n"
     ]
    }
   ],
   "source": [
    "for r in [0, 0.01, 0.1, 1, 5, 10, 100]:\n",
    "    w_0, w = train_linear_regression_reg(X_train, y_train, r=r)\n",
    "    y_pred = w_0 + X_val.dot(w)\n",
    "    print(f\"r={r} Error={rmse(y_pred, y_val).round(2)}\")"
   ]
  },
  {
   "cell_type": "markdown",
   "id": "127648bc",
   "metadata": {},
   "source": [
    "### Question 5  Std: 0.01"
   ]
  },
  {
   "cell_type": "code",
   "execution_count": 111,
   "id": "bd588d9c",
   "metadata": {},
   "outputs": [],
   "source": [
    "scores = []\n",
    "for seed_value in [0, 1, 2, 3, 4, 5, 6, 7, 8, 9]:\n",
    "   np.random.seed(seed_value)\n",
    "   idx = np.arange(df.index.size)\n",
    "   np.random.shuffle(idx)\n",
    "   \n",
    "   df_shuffled = df.iloc[idx]\n",
    "   \n",
    "   df_train = df_shuffled.iloc[:n_train].copy()\n",
    "   df_val = df_shuffled.iloc[n_train:n_train+n_val].copy()\n",
    "   df_test = df_shuffled.iloc[n_train+n_val:].copy()\n",
    "   \n",
    "   X_train = prepare_X(df_train, 0)\n",
    "   y_train = df_train.fuel_efficiency_mpg.values\n",
    "   \n",
    "   X_val = prepare_X(df_val, 0)\n",
    "   y_val = df_val.fuel_efficiency_mpg.values\n",
    "    \n",
    "   w_0, w = train_linear_regression(X_train, y_train)\n",
    "   \n",
    "   y_pred = w_0 + X_val.dot(w) \n",
    "   scores.append(rmse(y_pred, y_val).round(2))\n",
    "   #print(f\"seed: {seed_value} Error: {rmse(y_pred, y_val).round(2)}\")\n",
    "\n",
    "\n",
    "scores= np.array(scores)"
   ]
  },
  {
   "cell_type": "code",
   "execution_count": 129,
   "id": "ca777c56",
   "metadata": {},
   "outputs": [
    {
     "data": {
      "text/plain": [
       "np.float64(0.0075)"
      ]
     },
     "execution_count": 129,
     "metadata": {},
     "output_type": "execute_result"
    }
   ],
   "source": [
    "scores.std().round(4)"
   ]
  },
  {
   "cell_type": "markdown",
   "id": "733d15cb",
   "metadata": {},
   "source": [
    "### Question 6  0.515"
   ]
  },
  {
   "cell_type": "code",
   "execution_count": 115,
   "id": "427ccbdc",
   "metadata": {},
   "outputs": [],
   "source": [
    "np.random.seed(9)\n",
    "idx = np.arange(df.index.size)\n",
    "np.random.shuffle(idx)\n",
    "\n",
    "df_shuffled = df.iloc[idx]\n",
    "\n",
    "df_train = df_shuffled.iloc[:n_train].copy()\n",
    "df_val = df_shuffled.iloc[n_train:n_train+n_val].copy()\n",
    "df_test = df_shuffled.iloc[n_train+n_val:].copy()\n",
    "   "
   ]
  },
  {
   "cell_type": "code",
   "execution_count": 118,
   "id": "3647a89b",
   "metadata": {},
   "outputs": [],
   "source": [
    "df_combined = pd.concat([df_train, df_val])"
   ]
  },
  {
   "cell_type": "code",
   "execution_count": 120,
   "id": "efe570ba",
   "metadata": {},
   "outputs": [],
   "source": [
    "X_train = prepare_X(df_combined, 0)\n",
    "y_train = df_combined.fuel_efficiency_mpg.values"
   ]
  },
  {
   "cell_type": "code",
   "execution_count": 121,
   "id": "12d09c30",
   "metadata": {},
   "outputs": [],
   "source": [
    "w_0, w= train_linear_regression_reg(X_train, y_train, 0.001)"
   ]
  },
  {
   "cell_type": "code",
   "execution_count": 122,
   "id": "577dd103",
   "metadata": {},
   "outputs": [],
   "source": [
    "X_test = prepare_X(df_test, 0)\n",
    "y_test = df_test.fuel_efficiency_mpg.values"
   ]
  },
  {
   "cell_type": "code",
   "execution_count": 127,
   "id": "8d211134",
   "metadata": {},
   "outputs": [],
   "source": [
    "y_pred = w_0 + X_test.dot(w)\n",
    "error = rmse(y_pred, y_test).round(4)"
   ]
  },
  {
   "cell_type": "code",
   "execution_count": null,
   "id": "8696a0c1",
   "metadata": {},
   "outputs": [
    {
     "data": {
      "text/plain": [
       "np.float64(0.5156)"
      ]
     },
     "execution_count": 128,
     "metadata": {},
     "output_type": "execute_result"
    }
   ],
   "source": [
    "error\n",
    "\n"
   ]
  }
 ],
 "metadata": {
  "kernelspec": {
   "display_name": "Python 3",
   "language": "python",
   "name": "python3"
  },
  "language_info": {
   "codemirror_mode": {
    "name": "ipython",
    "version": 3
   },
   "file_extension": ".py",
   "mimetype": "text/x-python",
   "name": "python",
   "nbconvert_exporter": "python",
   "pygments_lexer": "ipython3",
   "version": "3.12.1"
  }
 },
 "nbformat": 4,
 "nbformat_minor": 5
}
